{
 "cells": [
  {
   "cell_type": "markdown",
   "id": "82c617a4",
   "metadata": {},
   "source": [
    "# CLIP + ImageNet 图像分类示例\n",
    "\n",
    "本笔记本演示如何使用自定义的ImageNet数据集类进行CLIP图像分类。\n",
    "\n",
    "## 数据集类特点\n",
    "\n",
    "✅ **继承自 `torch.utils.data.Dataset`**  \n",
    "✅ **自动解析WNID和类别名称**  \n",
    "✅ **支持CLIP预处理**  \n",
    "✅ **灵活的数据增强**  \n",
    "✅ **类别子集选择**  \n",
    "✅ **自动处理train/val分割**"
   ]
  },
  {
   "cell_type": "markdown",
   "id": "f5a38d3c",
   "metadata": {},
   "source": [
    "## 1. 导入依赖"
   ]
  },
  {
   "cell_type": "code",
   "execution_count": null,
   "id": "802825bc",
   "metadata": {},
   "outputs": [],
   "source": [
    "import os\n",
    "import sys\n",
    "import matplotlib.pyplot as plt\n",
    "import torch\n",
    "import torch.nn as nn\n",
    "from torchvision import transforms\n",
    "import numpy as np\n",
    "\n",
    "# 导入自定义数据集类\n",
    "from imagenet_dataset import ImageNetDataset, create_imagenet_dataloaders, get_transforms\n",
    "\n",
    "# 设置matplotlib中文显示\n",
    "plt.rcParams['font.sans-serif'] = ['SimHei']\n",
    "plt.rcParams['axes.unicode_minus'] = False\n",
    "\n",
    "print(f\"PyTorch版本: {torch.__version__}\")\n",
    "print(f\"CUDA可用: {torch.cuda.is_available()}\")\n",
    "if torch.cuda.is_available():\n",
    "    print(f\"CUDA设备: {torch.cuda.get_device_name(0)}\")"
   ]
  },
  {
   "cell_type": "markdown",
   "id": "98edf549",
   "metadata": {},
   "source": [
    "## 2. 数据加载\n",
    "\n",
    "### 2.1 使用便捷函数创建DataLoader"
   ]
  },
  {
   "cell_type": "code",
   "execution_count": null,
   "id": "dca6c9f8",
   "metadata": {},
   "outputs": [],
   "source": [
    "# 配置参数\n",
    "DATA_ROOT = r\"G:\\Thomas\\3_1_project\\data\\ImageNet-data\"\n",
    "BATCH_SIZE = 16\n",
    "NUM_CLASSES = 20  # 使用前20个类别\n",
    "IMAGE_SIZE = 224\n",
    "SEED = 42\n",
    "\n",
    "print(\"创建数据加载器...\")\n",
    "print(\"=\"*70)\n",
    "\n",
    "train_loader, val_loader = create_imagenet_dataloaders(\n",
    "    root=DATA_ROOT,\n",
    "    batch_size=BATCH_SIZE,\n",
    "    num_workers=0,  # Windows系统建议设为0\n",
    "    num_classes=NUM_CLASSES,\n",
    "    image_size=IMAGE_SIZE,\n",
    "    use_clip_norm=True,  # 使用CLIP的归一化参数\n",
    "    seed=SEED,\n",
    "    val_split=0.1,  # 10%作为验证集\n",
    ")\n",
    "\n",
    "print(f\"\\n✓ 训练集批次数: {len(train_loader)}\")\n",
    "print(f\"✓ 验证集批次数: {len(val_loader)}\")\n",
    "\n",
    "# 获取基础dataset（处理可能的Subset包装）\n",
    "base_dataset = train_loader.dataset\n",
    "if hasattr(base_dataset, 'dataset'):\n",
    "    base_dataset = base_dataset.dataset\n",
    "\n",
    "print(f\"\\n数据集统计:\")\n",
    "print(f\"  类别数: {base_dataset.num_classes}\")\n",
    "print(f\"  图像尺寸: {IMAGE_SIZE}x{IMAGE_SIZE}\")\n",
    "print(f\"  归一化方式: CLIP\")"
   ]
  },
  {
   "cell_type": "markdown",
   "id": "1ba5e5ba",
   "metadata": {},
   "source": [
    "### 2.2 查看类别信息"
   ]
  },
  {
   "cell_type": "code",
   "execution_count": null,
   "id": "c59ea0cb",
   "metadata": {},
   "outputs": [],
   "source": [
    "print(\"ImageNet类别列表:\")\n",
    "print(\"=\"*70)\n",
    "\n",
    "for i in range(base_dataset.num_classes):\n",
    "    wnid = base_dataset.get_wnid(i)\n",
    "    name = base_dataset.get_class_name(i)\n",
    "    print(f\"  [{i:2d}] {wnid}: {name}\")"
   ]
  },
  {
   "cell_type": "markdown",
   "id": "99b43ab8",
   "metadata": {},
   "source": [
    "## 3. 数据可视化\n",
    "\n",
    "### 3.1 反归一化函数"
   ]
  },
  {
   "cell_type": "code",
   "execution_count": null,
   "id": "cf83ed18",
   "metadata": {},
   "outputs": [],
   "source": [
    "def denormalize_clip(tensor):\n",
    "    \"\"\"\n",
    "    反归一化CLIP图像\n",
    "    \n",
    "    Args:\n",
    "        tensor: 归一化后的图像张量 [C, H, W] 或 [B, C, H, W]\n",
    "    \n",
    "    Returns:\n",
    "        反归一化后的图像\n",
    "    \"\"\"\n",
    "    mean = torch.tensor([0.48145466, 0.4578275, 0.40821073]).view(3, 1, 1)\n",
    "    std = torch.tensor([0.26862954, 0.26130258, 0.27577711]).view(3, 1, 1)\n",
    "    \n",
    "    if tensor.dim() == 4:  # batch\n",
    "        mean = mean.unsqueeze(0)\n",
    "        std = std.unsqueeze(0)\n",
    "    \n",
    "    return torch.clamp(tensor * std + mean, 0, 1)\n",
    "\n",
    "print(\"✓ 反归一化函数定义完成\")"
   ]
  },
  {
   "cell_type": "markdown",
   "id": "15aafa6e",
   "metadata": {},
   "source": [
    "### 3.2 展示训练样本"
   ]
  },
  {
   "cell_type": "code",
   "execution_count": null,
   "id": "84dc0634",
   "metadata": {},
   "outputs": [],
   "source": [
    "def show_batch(dataloader, base_dataset, num_images=12, cols=4):\n",
    "    \"\"\"\n",
    "    展示一个批次的图像\n",
    "    \n",
    "    Args:\n",
    "        dataloader: 数据加载器\n",
    "        base_dataset: 基础数据集（用于获取类别名称）\n",
    "        num_images: 显示的图像数量\n",
    "        cols: 每行显示的列数\n",
    "    \"\"\"\n",
    "    # 获取一个批次\n",
    "    images, labels = next(iter(dataloader))\n",
    "    \n",
    "    # 计算行数\n",
    "    rows = (num_images + cols - 1) // cols\n",
    "    \n",
    "    # 创建图形\n",
    "    fig, axes = plt.subplots(rows, cols, figsize=(cols*3, rows*3))\n",
    "    axes = axes.flatten() if isinstance(axes, np.ndarray) else [axes]\n",
    "    \n",
    "    for idx in range(min(num_images, len(images))):\n",
    "        # 反归一化\n",
    "        img = denormalize_clip(images[idx].cpu())\n",
    "        \n",
    "        # 转换为numpy [C,H,W] -> [H,W,C]\n",
    "        img_np = img.permute(1, 2, 0).numpy()\n",
    "        \n",
    "        # 获取类别信息\n",
    "        label = labels[idx].item()\n",
    "        wnid = base_dataset.get_wnid(label)\n",
    "        class_name = base_dataset.get_class_name(label)\n",
    "        \n",
    "        # 显示图像\n",
    "        axes[idx].imshow(img_np)\n",
    "        axes[idx].set_title(f\"{wnid}\\n{class_name}\", fontsize=9)\n",
    "        axes[idx].axis('off')\n",
    "    \n",
    "    # 隐藏多余的子图\n",
    "    for idx in range(num_images, len(axes)):\n",
    "        axes[idx].axis('off')\n",
    "    \n",
    "    plt.tight_layout()\n",
    "    plt.show()\n",
    "\n",
    "print(\"训练集样本可视化:\")\n",
    "print(\"=\"*70)\n",
    "show_batch(train_loader, base_dataset, num_images=12, cols=4)"
   ]
  },
  {
   "cell_type": "markdown",
   "id": "cc82c8fa",
   "metadata": {},
   "source": [
    "### 3.3 展示验证集样本"
   ]
  },
  {
   "cell_type": "code",
   "execution_count": null,
   "id": "6a46d3c5",
   "metadata": {},
   "outputs": [],
   "source": [
    "print(\"验证集样本可视化:\")\n",
    "print(\"=\"*70)\n",
    "show_batch(val_loader, base_dataset, num_images=12, cols=4)"
   ]
  },
  {
   "cell_type": "markdown",
   "id": "8c3d9a23",
   "metadata": {},
   "source": [
    "## 4. 样本详细信息\n",
    "\n",
    "查看数据集中样本的详细信息（路径、WNID、类别名称、描述）。"
   ]
  },
  {
   "cell_type": "code",
   "execution_count": null,
   "id": "0078e6e8",
   "metadata": {},
   "outputs": [],
   "source": [
    "print(\"样本详细信息示例:\")\n",
    "print(\"=\"*70)\n",
    "\n",
    "# 显示前5个样本的详细信息\n",
    "for i in range(5):\n",
    "    info = base_dataset.get_sample_info(i)\n",
    "    print(f\"\\n样本 {i+1}:\")\n",
    "    print(f\"  文件: {os.path.basename(info['path'])}\")\n",
    "    print(f\"  WNID: {info['wnid']}\")\n",
    "    print(f\"  标签索引: {info['label']}\")\n",
    "    print(f\"  类别名称: {info['class_name']}\")\n",
    "    print(f\"  描述: {info['description']}\")"
   ]
  },
  {
   "cell_type": "markdown",
   "id": "6a855d45",
   "metadata": {},
   "source": [
    "## 5. 直接使用Dataset类（高级用法）\n",
    "\n",
    "如果需要更细粒度的控制，可以直接使用`ImageNetDataset`类。"
   ]
  },
  {
   "cell_type": "code",
   "execution_count": null,
   "id": "5e749a8f",
   "metadata": {},
   "outputs": [],
   "source": [
    "# 自定义transform\n",
    "custom_transform = transforms.Compose([\n",
    "    transforms.Resize(256),\n",
    "    transforms.CenterCrop(224),\n",
    "    transforms.RandomHorizontalFlip(p=0.5),\n",
    "    transforms.ColorJitter(brightness=0.2, contrast=0.2),\n",
    "    transforms.ToTensor(),\n",
    "    transforms.Normalize(\n",
    "        mean=(0.48145466, 0.4578275, 0.40821073),\n",
    "        std=(0.26862954, 0.26130258, 0.27577711)\n",
    "    ),\n",
    "])\n",
    "\n",
    "# 创建自定义数据集\n",
    "custom_dataset = ImageNetDataset(\n",
    "    root=DATA_ROOT,\n",
    "    split='train',\n",
    "    transform=custom_transform,\n",
    "    num_classes=5,  # 只使用前5个类别\n",
    ")\n",
    "\n",
    "print(f\"自定义数据集大小: {len(custom_dataset)}\")\n",
    "print(f\"类别数: {custom_dataset.num_classes}\")\n",
    "\n",
    "# 获取一个样本\n",
    "img, label = custom_dataset[0]\n",
    "print(f\"\\n样本形状: {img.shape}\")\n",
    "print(f\"标签: {label}\")\n",
    "print(f\"类别: {custom_dataset.get_class_name(label)}\")"
   ]
  },
  {
   "cell_type": "markdown",
   "id": "a7a137c7",
   "metadata": {},
   "source": [
    "## 6. 指定特定类别\n",
    "\n",
    "可以通过WNID列表指定想要使用的类别。"
   ]
  },
  {
   "cell_type": "code",
   "execution_count": null,
   "id": "93f83a35",
   "metadata": {},
   "outputs": [],
   "source": [
    "# 指定感兴趣的类别（例如：动物类）\n",
    "selected_wnids = [\n",
    "    \"n01443537\",  # goldfish\n",
    "    \"n01530575\",  # brambling\n",
    "    \"n01729322\",  # hognose snake\n",
    "    \"n01773797\",  # garden spider\n",
    "    \"n02480495\",  # orangutan (如果有的话)\n",
    "]\n",
    "\n",
    "# 创建指定类别的数据加载器\n",
    "print(\"创建指定类别的数据加载器...\")\n",
    "subset_train_loader, subset_val_loader = create_imagenet_dataloaders(\n",
    "    root=DATA_ROOT,\n",
    "    batch_size=BATCH_SIZE,\n",
    "    num_workers=0,\n",
    "    class_subset=selected_wnids,  # 指定类别\n",
    "    image_size=IMAGE_SIZE,\n",
    "    use_clip_norm=True,\n",
    "    seed=SEED,\n",
    "    val_split=0.15,\n",
    ")\n",
    "\n",
    "# 获取基础dataset\n",
    "subset_base = subset_train_loader.dataset\n",
    "if hasattr(subset_base, 'dataset'):\n",
    "    subset_base = subset_base.dataset\n",
    "\n",
    "print(f\"\\n✓ 子集类别数: {subset_base.num_classes}\")\n",
    "print(f\"\\n类别列表:\")\n",
    "for i in range(subset_base.num_classes):\n",
    "    print(f\"  [{i}] {subset_base.get_wnid(i)}: {subset_base.get_class_name(i)}\")"
   ]
  },
  {
   "cell_type": "markdown",
   "id": "cf4a7b95",
   "metadata": {},
   "source": [
    "## 7. 数据统计\n",
    "\n",
    "分析数据集的类别分布。"
   ]
  },
  {
   "cell_type": "code",
   "execution_count": null,
   "id": "4fc8b0f6",
   "metadata": {},
   "outputs": [],
   "source": [
    "from collections import Counter\n",
    "\n",
    "# 统计每个类别的样本数量\n",
    "label_counts = Counter()\n",
    "for _, label in base_dataset:\n",
    "    label_counts[label] += 1\n",
    "\n",
    "print(\"类别样本数量统计:\")\n",
    "print(\"=\"*70)\n",
    "for label in sorted(label_counts.keys()):\n",
    "    wnid = base_dataset.get_wnid(label)\n",
    "    name = base_dataset.get_class_name(label)\n",
    "    count = label_counts[label]\n",
    "    print(f\"  [{label:2d}] {wnid}: {name:40s} - {count:5d} 张\")\n",
    "\n",
    "# 可视化分布\n",
    "labels = list(label_counts.keys())\n",
    "counts = [label_counts[l] for l in labels]\n",
    "names = [base_dataset.get_class_name(l).split(',')[0][:20] for l in labels]\n",
    "\n",
    "plt.figure(figsize=(14, 6))\n",
    "plt.bar(range(len(labels)), counts)\n",
    "plt.xlabel('类别索引')\n",
    "plt.ylabel('样本数量')\n",
    "plt.title('ImageNet类别样本分布')\n",
    "plt.xticks(range(len(labels)), labels, rotation=45)\n",
    "plt.tight_layout()\n",
    "plt.show()"
   ]
  },
  {
   "cell_type": "markdown",
   "id": "357d2553",
   "metadata": {},
   "source": [
    "## 总结\n",
    "\n",
    "✅ **成功创建了基于 `nn.Module` 的ImageNet数据集类！**\n",
    "\n",
    "### 主要特性：\n",
    "\n",
    "1. **标准PyTorch接口**：继承自`torch.utils.data.Dataset`\n",
    "2. **自动元数据解析**：从`meta.mat`自动加载WNID和类别名称\n",
    "3. **灵活的类别选择**：支持按数量或指定WNID列表选择类别\n",
    "4. **智能数据分割**：自动处理有/无独立val目录的情况\n",
    "5. **CLIP集成**：内置CLIP预处理和归一化\n",
    "6. **可重复性**：支持随机种子设置\n",
    "\n",
    "### 使用方法：\n",
    "\n",
    "```python\n",
    "from imagenet_dataset import create_imagenet_dataloaders\n",
    "\n",
    "train_loader, val_loader = create_imagenet_dataloaders(\n",
    "    root='path/to/imagenet',\n",
    "    batch_size=32,\n",
    "    num_classes=20,\n",
    "    use_clip_norm=True,\n",
    "    seed=42\n",
    ")\n",
    "```"
   ]
  }
 ],
 "metadata": {
  "language_info": {
   "name": "python"
  }
 },
 "nbformat": 4,
 "nbformat_minor": 5
}
