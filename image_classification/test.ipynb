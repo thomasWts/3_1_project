{
 "cells": [
  {
   "cell_type": "markdown",
   "id": "09415391",
   "metadata": {},
   "source": [
    "## 导入库"
   ]
  },
  {
   "cell_type": "code",
   "execution_count": null,
   "id": "992985ec",
   "metadata": {},
   "outputs": [],
   "source": [
    "import torch\n",
    "from torch import nn\n",
    "from torch.utils import data\n",
    "from torchvision import datasets, transforms\n",
    "from torch import optim\n",
    "from d2l import torch as d2l"
   ]
  },
  {
   "cell_type": "markdown",
   "id": "2b182dd3",
   "metadata": {},
   "source": [
    "## 设置训练参数\n",
    "## 导入数据"
   ]
  },
  {
   "cell_type": "code",
   "execution_count": null,
   "id": "e643584c",
   "metadata": {},
   "outputs": [],
   "source": [
    "from data import Pokemon\n",
    "import train_with_pretrained as twp\n",
    "batch_size = 16\n",
    "lr = 3e-4\n",
    "epochs = 30\n",
    "device = torch.device('cuda')\n",
    "print(\"使用设备：\", device)\n",
    "train_db = Pokemon('data/pokemon', 224, 'train')\n",
    "val_db = Pokemon('data/pokemon', 224, 'val')\n",
    "test_db = Pokemon('data/pokemon', 224, 'test')\n",
    "train_iter = torch.utils.data.DataLoader(train_db, batch_size, shuffle=True, num_workers=4)\n",
    "val_iter = torch.utils.data.DataLoader(val_db, batch_size, shuffle=False, num_workers=4)\n",
    "test_iter = torch.utils.data.DataLoader(test_db, batch_size, shuffle=False, num_workers=4)"
   ]
  },
  {
   "cell_type": "markdown",
   "id": "c3032327",
   "metadata": {},
   "source": [
    "## 开始训练"
   ]
  },
  {
   "cell_type": "code",
   "execution_count": null,
   "id": "6dbf66ae",
   "metadata": {},
   "outputs": [],
   "source": [
    "twp.train_with_resnet18(train_iter, val_iter, epochs, lr, device)"
   ]
  },
  {
   "cell_type": "markdown",
   "id": "ba29f355",
   "metadata": {},
   "source": [
    "## 测试模型效果"
   ]
  },
  {
   "cell_type": "code",
   "execution_count": null,
   "id": "d3af51c3",
   "metadata": {},
   "outputs": [],
   "source": [
    "twp.test_with_resnet18(test_iter, device)"
   ]
  }
 ],
 "metadata": {
  "language_info": {
   "name": "python"
  }
 },
 "nbformat": 4,
 "nbformat_minor": 5
}
