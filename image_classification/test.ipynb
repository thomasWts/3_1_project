{
 "cells": [
  {
   "cell_type": "markdown",
   "id": "09415391",
   "metadata": {},
   "source": [
    "## 导入库"
   ]
  },
  {
   "cell_type": "code",
   "execution_count": 3,
   "id": "992985ec",
   "metadata": {},
   "outputs": [],
   "source": [
    "import torch\n",
    "from torch import nn\n",
    "from torch.utils import data\n",
    "from torchvision import datasets, transforms\n",
    "from torch import optim\n",
    "from d2l import torch as d2l"
   ]
  },
  {
   "cell_type": "markdown",
   "id": "2b182dd3",
   "metadata": {},
   "source": [
    "## 设置训练参数\n",
    "## 导入数据"
   ]
  },
  {
   "cell_type": "code",
   "execution_count": 4,
   "id": "e643584c",
   "metadata": {},
   "outputs": [
    {
     "name": "stdout",
     "output_type": "stream",
     "text": [
      "使用设备： cuda\n"
     ]
    }
   ],
   "source": [
    "from data import Pokemon\n",
    "import train_with_pretrained as twp\n",
    "batch_size = 16\n",
    "lr = 3e-4\n",
    "epochs = 30\n",
    "device = torch.device('cuda')\n",
    "print(\"使用设备：\", device)\n",
    "train_db = Pokemon('G:\\Thomas\\\\3_1_project\\data\\pokemon', 224, 'train')\n",
    "val_db = Pokemon('G:\\Thomas\\\\3_1_project\\data\\pokemon', 224, 'val')\n",
    "test_db = Pokemon('G:\\Thomas\\\\3_1_project\\data\\pokemon', 224, 'test')\n",
    "train_iter = torch.utils.data.DataLoader(train_db, batch_size, shuffle=True, num_workers=4)\n",
    "val_iter = torch.utils.data.DataLoader(val_db, batch_size, shuffle=False, num_workers=4)\n",
    "test_iter = torch.utils.data.DataLoader(test_db, batch_size, shuffle=False, num_workers=4)"
   ]
  },
  {
   "cell_type": "markdown",
   "id": "c3032327",
   "metadata": {},
   "source": [
    "## 开始训练"
   ]
  },
  {
   "cell_type": "code",
   "execution_count": 5,
   "id": "6dbf66ae",
   "metadata": {},
   "outputs": [
    {
     "name": "stderr",
     "output_type": "stream",
     "text": [
      "f:\\anaconda_env\\ML\\lib\\site-packages\\torchvision\\models\\_utils.py:208: UserWarning: The parameter 'pretrained' is deprecated since 0.13 and may be removed in the future, please use 'weights' instead.\n",
      "  warnings.warn(\n",
      "f:\\anaconda_env\\ML\\lib\\site-packages\\torchvision\\models\\_utils.py:223: UserWarning: Arguments other than a weight enum or `None` for 'weights' are deprecated since 0.13 and may be removed in the future. The current behavior is equivalent to passing `weights=ResNet18_Weights.IMAGENET1K_V1`. You can also use `weights=ResNet18_Weights.DEFAULT` to get the most up-to-date weights.\n",
      "  warnings.warn(msg)\n"
     ]
    },
    {
     "name": "stdout",
     "output_type": "stream",
     "text": [
      "epoch 0, step 0, loss 1.6199440956115723\n",
      "epoch 0, step 10, loss 0.23927104473114014\n",
      "epoch 0, step 20, loss 0.09183365851640701\n",
      "epoch 0, step 30, loss 0.14946630597114563\n",
      "epoch 0, step 40, loss 0.34544801712036133\n",
      "epoch 0, val acc 0.9484978540772532, best acc 0.9484978540772532 at epoch 0\n",
      "epoch 1, step 0, loss 0.1241854727268219\n",
      "epoch 1, step 10, loss 0.04609423503279686\n",
      "epoch 1, step 20, loss 0.05602350831031799\n",
      "epoch 1, step 30, loss 0.5286341905593872\n",
      "epoch 1, step 40, loss 0.14423500001430511\n",
      "epoch 1, val acc 0.9785407725321889, best acc 0.9785407725321889 at epoch 1\n",
      "epoch 2, step 0, loss 0.13637617230415344\n",
      "epoch 2, step 10, loss 0.25151327252388\n",
      "epoch 2, step 20, loss 0.018248122185468674\n",
      "epoch 2, step 30, loss 0.02282332442700863\n",
      "epoch 2, step 40, loss 0.044694237411022186\n",
      "epoch 2, val acc 0.9484978540772532, best acc 0.9785407725321889 at epoch 1\n",
      "epoch 3, step 0, loss 0.047727230936288834\n",
      "epoch 3, step 10, loss 0.04239002615213394\n",
      "epoch 3, step 20, loss 0.021149884909391403\n",
      "epoch 3, step 30, loss 0.11394086480140686\n",
      "epoch 3, step 40, loss 0.5487127304077148\n",
      "epoch 3, val acc 0.9527896995708155, best acc 0.9785407725321889 at epoch 1\n",
      "epoch 4, step 0, loss 0.03572849929332733\n",
      "epoch 4, step 10, loss 0.46930480003356934\n",
      "epoch 4, step 20, loss 0.06090540811419487\n",
      "epoch 4, step 30, loss 0.02681330218911171\n",
      "epoch 4, step 40, loss 0.06399186700582504\n",
      "epoch 4, val acc 0.9699570815450643, best acc 0.9785407725321889 at epoch 1\n",
      "epoch 5, step 0, loss 0.03771327808499336\n",
      "epoch 5, step 10, loss 0.021553384140133858\n",
      "epoch 5, step 20, loss 0.23654158413410187\n",
      "epoch 5, step 30, loss 0.03516008332371712\n",
      "epoch 5, step 40, loss 0.09067641943693161\n",
      "epoch 5, val acc 0.9527896995708155, best acc 0.9785407725321889 at epoch 1\n",
      "epoch 6, step 0, loss 0.0070543447509408\n",
      "epoch 6, step 10, loss 0.008033390156924725\n",
      "epoch 6, step 20, loss 0.0346384160220623\n",
      "epoch 6, step 30, loss 0.006221615709364414\n",
      "epoch 6, step 40, loss 0.08833900839090347\n",
      "epoch 6, val acc 0.9527896995708155, best acc 0.9785407725321889 at epoch 1\n",
      "epoch 7, step 0, loss 0.020908964797854424\n",
      "epoch 7, step 10, loss 0.020367873832583427\n",
      "epoch 7, step 20, loss 0.01676163449883461\n",
      "epoch 7, step 30, loss 0.010721620172262192\n",
      "epoch 7, step 40, loss 0.16248883306980133\n",
      "epoch 7, val acc 0.9785407725321889, best acc 0.9785407725321889 at epoch 1\n",
      "epoch 8, step 0, loss 0.008442029356956482\n",
      "epoch 8, step 10, loss 0.01464091893285513\n",
      "epoch 8, step 20, loss 0.001880671945400536\n",
      "epoch 8, step 30, loss 0.001159706269390881\n",
      "epoch 8, step 40, loss 0.0056794919073581696\n",
      "epoch 8, val acc 0.9742489270386266, best acc 0.9785407725321889 at epoch 1\n",
      "epoch 9, step 0, loss 0.007588805165141821\n",
      "epoch 9, step 10, loss 0.03544596582651138\n",
      "epoch 9, step 20, loss 0.4031796157360077\n",
      "epoch 9, step 30, loss 0.02566893957555294\n",
      "epoch 9, step 40, loss 0.07705957442522049\n",
      "epoch 9, val acc 0.9742489270386266, best acc 0.9785407725321889 at epoch 1\n",
      "epoch 10, step 0, loss 0.016765523701906204\n",
      "epoch 10, step 10, loss 0.14850133657455444\n",
      "epoch 10, step 20, loss 0.018723340705037117\n",
      "epoch 10, step 30, loss 0.0060973153449594975\n",
      "epoch 10, step 40, loss 0.010039283894002438\n",
      "epoch 10, val acc 0.9656652360515021, best acc 0.9785407725321889 at epoch 1\n",
      "epoch 11, step 0, loss 0.0016894580330699682\n",
      "epoch 11, step 10, loss 0.04893237724900246\n",
      "epoch 11, step 20, loss 0.14733661711215973\n",
      "epoch 11, step 30, loss 0.24779167771339417\n",
      "epoch 11, step 40, loss 0.10551813989877701\n",
      "epoch 11, val acc 0.9785407725321889, best acc 0.9785407725321889 at epoch 1\n",
      "epoch 12, step 0, loss 0.06863374263048172\n",
      "epoch 12, step 10, loss 0.00255179894156754\n",
      "epoch 12, step 20, loss 0.0008313353173434734\n",
      "epoch 12, step 30, loss 0.013869681395590305\n",
      "epoch 12, step 40, loss 0.00677231140434742\n",
      "epoch 12, val acc 0.9828326180257511, best acc 0.9828326180257511 at epoch 12\n",
      "epoch 13, step 0, loss 0.001953356433659792\n",
      "epoch 13, step 10, loss 0.008464017882943153\n",
      "epoch 13, step 20, loss 0.08323173969984055\n",
      "epoch 13, step 30, loss 0.0034534770529717207\n",
      "epoch 13, step 40, loss 0.0008280600304715335\n",
      "epoch 13, val acc 0.9656652360515021, best acc 0.9828326180257511 at epoch 12\n",
      "epoch 14, step 0, loss 0.04599777236580849\n",
      "epoch 14, step 10, loss 0.000854292418807745\n",
      "epoch 14, step 20, loss 0.008514982648193836\n",
      "epoch 14, step 30, loss 0.00026634492678567767\n",
      "epoch 14, step 40, loss 0.08850543946027756\n",
      "epoch 14, val acc 0.9914163090128756, best acc 0.9914163090128756 at epoch 14\n",
      "epoch 15, step 0, loss 0.0024369647726416588\n",
      "epoch 15, step 10, loss 0.010937522165477276\n",
      "epoch 15, step 20, loss 0.0008525602170266211\n",
      "epoch 15, step 30, loss 0.0023452462628483772\n",
      "epoch 15, step 40, loss 0.0003457962302491069\n",
      "epoch 15, val acc 0.9914163090128756, best acc 0.9914163090128756 at epoch 14\n",
      "epoch 16, step 0, loss 0.00040995911695063114\n",
      "epoch 16, step 10, loss 0.0007018384640105069\n",
      "epoch 16, step 20, loss 0.001995955826714635\n",
      "epoch 16, step 30, loss 0.0006833596853539348\n",
      "epoch 16, step 40, loss 0.003024962032213807\n",
      "epoch 16, val acc 0.9914163090128756, best acc 0.9914163090128756 at epoch 14\n",
      "epoch 17, step 0, loss 0.003518776735290885\n",
      "epoch 17, step 10, loss 0.0034715761430561543\n",
      "epoch 17, step 20, loss 0.00026449040160514414\n",
      "epoch 17, step 30, loss 0.015666702762246132\n",
      "epoch 17, step 40, loss 0.001673394930548966\n",
      "epoch 17, val acc 0.9871244635193133, best acc 0.9914163090128756 at epoch 14\n",
      "epoch 18, step 0, loss 0.0025859519373625517\n",
      "epoch 18, step 10, loss 0.21114544570446014\n",
      "epoch 18, step 20, loss 0.0060213059186935425\n",
      "epoch 18, step 30, loss 0.01032821461558342\n",
      "epoch 18, step 40, loss 0.6613231301307678\n",
      "epoch 18, val acc 0.9656652360515021, best acc 0.9914163090128756 at epoch 14\n",
      "epoch 19, step 0, loss 0.005862430203706026\n",
      "epoch 19, step 10, loss 0.036935336887836456\n",
      "epoch 19, step 20, loss 0.010744365863502026\n",
      "epoch 19, step 30, loss 0.12760934233665466\n",
      "epoch 19, step 40, loss 0.004244058392941952\n",
      "epoch 19, val acc 0.9699570815450643, best acc 0.9914163090128756 at epoch 14\n",
      "epoch 20, step 0, loss 0.003952975384891033\n",
      "epoch 20, step 10, loss 0.03520200029015541\n",
      "epoch 20, step 20, loss 0.04771794378757477\n",
      "epoch 20, step 30, loss 0.09819053113460541\n",
      "epoch 20, step 40, loss 0.21281036734580994\n",
      "epoch 20, val acc 0.9742489270386266, best acc 0.9914163090128756 at epoch 14\n",
      "epoch 21, step 0, loss 0.09309052675962448\n",
      "epoch 21, step 10, loss 0.090830497443676\n",
      "epoch 21, step 20, loss 0.00177973962854594\n",
      "epoch 21, step 30, loss 0.008151354268193245\n",
      "epoch 21, step 40, loss 0.08016610145568848\n",
      "epoch 21, val acc 0.9656652360515021, best acc 0.9914163090128756 at epoch 14\n",
      "epoch 22, step 0, loss 0.008594425395131111\n",
      "epoch 22, step 10, loss 0.09527146071195602\n",
      "epoch 22, step 20, loss 0.017679443582892418\n",
      "epoch 22, step 30, loss 0.012017440982162952\n",
      "epoch 22, step 40, loss 0.006810191087424755\n",
      "epoch 22, val acc 0.9785407725321889, best acc 0.9914163090128756 at epoch 14\n",
      "epoch 23, step 0, loss 0.004565672483295202\n",
      "epoch 23, step 10, loss 0.009256327524781227\n",
      "epoch 23, step 20, loss 0.004360854625701904\n",
      "epoch 23, step 30, loss 0.007841741666197777\n",
      "epoch 23, step 40, loss 0.01576324552297592\n",
      "epoch 23, val acc 0.9742489270386266, best acc 0.9914163090128756 at epoch 14\n",
      "epoch 24, step 0, loss 0.01059857476502657\n",
      "epoch 24, step 10, loss 0.0018096468411386013\n",
      "epoch 24, step 20, loss 0.010426843538880348\n",
      "epoch 24, step 30, loss 0.04118296876549721\n",
      "epoch 24, step 40, loss 0.0018508025677874684\n",
      "epoch 24, val acc 0.9871244635193133, best acc 0.9914163090128756 at epoch 14\n",
      "epoch 25, step 0, loss 0.0015368746826425195\n",
      "epoch 25, step 10, loss 0.009656517766416073\n",
      "epoch 25, step 20, loss 0.023393653333187103\n",
      "epoch 25, step 30, loss 0.006536293309181929\n",
      "epoch 25, step 40, loss 0.1782844215631485\n",
      "epoch 25, val acc 0.9742489270386266, best acc 0.9914163090128756 at epoch 14\n",
      "epoch 26, step 0, loss 0.041273314505815506\n",
      "epoch 26, step 10, loss 0.009259396232664585\n",
      "epoch 26, step 20, loss 0.0004801992035936564\n",
      "epoch 26, step 30, loss 0.003497316734865308\n",
      "epoch 26, step 40, loss 0.0013820035383105278\n",
      "epoch 26, val acc 0.9828326180257511, best acc 0.9914163090128756 at epoch 14\n",
      "epoch 27, step 0, loss 0.003982395399361849\n",
      "epoch 27, step 10, loss 0.0012430103961378336\n",
      "epoch 27, step 20, loss 0.04162729158997536\n",
      "epoch 27, step 30, loss 0.0041203913278877735\n",
      "epoch 27, step 40, loss 0.056860946118831635\n",
      "epoch 27, val acc 0.9785407725321889, best acc 0.9914163090128756 at epoch 14\n",
      "epoch 28, step 0, loss 0.000994027708657086\n",
      "epoch 28, step 10, loss 0.05613303184509277\n",
      "epoch 28, step 20, loss 0.0015892336377874017\n",
      "epoch 28, step 30, loss 0.058172568678855896\n",
      "epoch 28, step 40, loss 0.062193918973207474\n",
      "epoch 28, val acc 0.9785407725321889, best acc 0.9914163090128756 at epoch 14\n",
      "epoch 29, step 0, loss 0.0496959388256073\n",
      "epoch 29, step 10, loss 0.1043311282992363\n",
      "epoch 29, step 20, loss 0.0011167553020641208\n",
      "epoch 29, step 30, loss 0.023595798760652542\n",
      "epoch 29, step 40, loss 0.0009292588219977915\n",
      "epoch 29, val acc 0.9871244635193133, best acc 0.9914163090128756 at epoch 14\n",
      "best acc 0.9914163090128756 at epoch 14\n"
     ]
    }
   ],
   "source": [
    "twp.train_with_resnet18(train_iter, val_iter, epochs, lr, device)"
   ]
  },
  {
   "cell_type": "markdown",
   "id": "ba29f355",
   "metadata": {},
   "source": [
    "## 测试模型效果"
   ]
  },
  {
   "cell_type": "code",
   "execution_count": 6,
   "id": "d3af51c3",
   "metadata": {},
   "outputs": [
    {
     "name": "stderr",
     "output_type": "stream",
     "text": [
      "f:\\anaconda_env\\ML\\lib\\site-packages\\torchvision\\models\\_utils.py:223: UserWarning: Arguments other than a weight enum or `None` for 'weights' are deprecated since 0.13 and may be removed in the future. The current behavior is equivalent to passing `weights=None`.\n",
      "  warnings.warn(msg)\n"
     ]
    },
    {
     "name": "stdout",
     "output_type": "stream",
     "text": [
      "test acc 0.9871794871794872\n"
     ]
    }
   ],
   "source": [
    "twp.test_with_resnet18(test_iter, device)"
   ]
  }
 ],
 "metadata": {
  "kernelspec": {
   "display_name": "ML",
   "language": "python",
   "name": "python3"
  },
  "language_info": {
   "codemirror_mode": {
    "name": "ipython",
    "version": 3
   },
   "file_extension": ".py",
   "mimetype": "text/x-python",
   "name": "python",
   "nbconvert_exporter": "python",
   "pygments_lexer": "ipython3",
   "version": "3.9.23"
  }
 },
 "nbformat": 4,
 "nbformat_minor": 5
}
